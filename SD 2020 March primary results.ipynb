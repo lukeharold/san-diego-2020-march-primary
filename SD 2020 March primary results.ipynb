{
 "cells": [
  {
   "cell_type": "markdown",
   "metadata": {},
   "source": [
    "San Diego March 2020 primary results analysis \n",
    "\n",
    "By Luke Harold\n",
    "\n",
    "all_precincts = complete dataset of all San Diego County precinct results\n",
    "\n",
    "SOLANA BEACH\n",
    "\n",
    "solana_beach_dem_votes = descending list of votes cast for Dem candidates\n",
    "\n",
    "solana_beach_biden_votes = votes cast for Biden in all Solana Beach precincts\n",
    "    solana_beach_biden_vote_total\n",
    "    solana_beach_sanders_vote_total\n",
    "    solana_beach_warren_vote_total\n",
    "    solana_beach_klobuchar_vote_total\n",
    "    solana_beach_buttigieg_vote_total\n",
    "    solana_beach_steyer_vote_total\n",
    "    solana_beach_yang_vote_total\n",
    "    solana_beach_gabbard_vote_total\n",
    "    solana_beach_williamson_vote_total\n",
    "    solana_beach_bloomberg_vote_total"
   ]
  },
  {
   "cell_type": "code",
   "execution_count": 2,
   "metadata": {},
   "outputs": [],
   "source": [
    "import pandas as pd"
   ]
  },
  {
   "cell_type": "code",
   "execution_count": 24,
   "metadata": {},
   "outputs": [],
   "source": [
    "pd.set_option('display.max_rows', None)\n",
    "pd.set_option('display.max_columns', None)\n",
    "pd.set_option('display.width', None)\n",
    "pd.set_option('display.max_colwidth', None)"
   ]
  },
  {
   "cell_type": "code",
   "execution_count": 4,
   "metadata": {},
   "outputs": [],
   "source": [
    "all_precincts = pd.read_csv(\"sandiegoresults.csv\")"
   ]
  },
  {
   "cell_type": "code",
   "execution_count": 6,
   "metadata": {},
   "outputs": [
    {
     "name": "stdout",
     "output_type": "stream",
     "text": [
      "<class 'pandas.core.frame.DataFrame'>\n",
      "RangeIndex: 65499 entries, 0 to 65498\n",
      "Data columns (total 5 columns):\n",
      " #   Column          Non-Null Count  Dtype \n",
      "---  ------          --------------  ----- \n",
      " 0   precinct        65499 non-null  object\n",
      " 1   contest_name    65499 non-null  object\n",
      " 2   candidate_name  65499 non-null  object\n",
      " 3   votes           65499 non-null  int64 \n",
      " 4   voter_turnout   65499 non-null  object\n",
      "dtypes: int64(1), object(4)\n",
      "memory usage: 2.5+ MB\n"
     ]
    }
   ],
   "source": [
    "all_precincts.info()"
   ]
  },
  {
   "cell_type": "code",
   "execution_count": 7,
   "metadata": {},
   "outputs": [
    {
     "data": {
      "text/plain": [
       "0201-150410-CLAIREMONT N      36\n",
       "0190-145010-UNIVERSITY S      36\n",
       "0301-195080-MISSION VALLEY    36\n",
       "0238-171000-TIERRASANTA       36\n",
       "0171-135100-POMERADO          36\n",
       "                              ..\n",
       "1235-483000-LA MESA           35\n",
       "0350-225200-PACIFIC BEACH     35\n",
       "1270-499510-SPRING VALLEY     35\n",
       "1285-500800-SPRING VALLEY     35\n",
       "1356-526820-CHULA VISTA       35\n",
       "Name: precinct, Length: 1862, dtype: int64"
      ]
     },
     "execution_count": 7,
     "metadata": {},
     "output_type": "execute_result"
    }
   ],
   "source": [
    "all_precincts.precinct.value_counts()"
   ]
  },
  {
   "cell_type": "markdown",
   "metadata": {},
   "source": [
    "SOLANA BEACH"
   ]
  },
  {
   "cell_type": "code",
   "execution_count": 15,
   "metadata": {},
   "outputs": [],
   "source": [
    "solana_beach = all_precincts[all_precincts.precinct.str.contains('SOLANA BEACH')]"
   ]
  },
  {
   "cell_type": "code",
   "execution_count": 26,
   "metadata": {},
   "outputs": [],
   "source": [
    "solana_beach_dem_votes = solana_beach[solana_beach.contest_name.str.contains('DEMOCRATIC')].sort_values('votes', ascending=False)"
   ]
  },
  {
   "cell_type": "code",
   "execution_count": 28,
   "metadata": {},
   "outputs": [],
   "source": [
    "solana_beach_biden_votes = solana_beach_dem_votes[solana_beach_dem_votes.candidate_name.str.contains('JOSEPH R. BIDEN')]"
   ]
  },
  {
   "cell_type": "code",
   "execution_count": 32,
   "metadata": {},
   "outputs": [],
   "source": [
    "solana_beach_biden_vote_total = solana_beach_biden_votes.votes.sum()"
   ]
  },
  {
   "cell_type": "code",
   "execution_count": 34,
   "metadata": {},
   "outputs": [],
   "source": [
    "solana_beach_sanders_votes = solana_beach_dem_votes[solana_beach_dem_votes.candidate_name.str.contains('BERNIE')]"
   ]
  },
  {
   "cell_type": "code",
   "execution_count": 35,
   "metadata": {},
   "outputs": [],
   "source": [
    "solana_beach_sanders_vote_total = solana_beach_sanders_votes.votes.sum()"
   ]
  },
  {
   "cell_type": "code",
   "execution_count": 42,
   "metadata": {},
   "outputs": [],
   "source": [
    "solana_beach_bloomberg_votes = solana_beach_dem_votes[solana_beach_dem_votes.candidate_name.str.contains('BLOOMBERG')]\n",
    "solana_beach_bloomberg_vote_total = solana_beach_bloomberg_votes.votes.sum()"
   ]
  },
  {
   "cell_type": "code",
   "execution_count": 63,
   "metadata": {},
   "outputs": [],
   "source": [
    "solana_beach = all_precincts[all_precincts.precinct.str.contains('SOLANA BEACH')]\n",
    "\n",
    "solana_beach_sanders_votes = solana_beach_dem_votes[solana_beach_dem_votes.candidate_name.str.contains('SANDERS')]\n",
    "solana_beach_sanders_vote_total = solana_beach_sanders_votes.votes.sum()\n",
    "\n",
    "solana_beach_biden_votes = solana_beach_dem_votes[solana_beach_dem_votes.candidate_name.str.contains('BIDEN')]\n",
    "solana_beach_biden_vote_total = solana_beach_biden_votes.votes.sum()\n",
    "\n",
    "solana_beach_warren_votes = solana_beach_dem_votes[solana_beach_dem_votes.candidate_name.str.contains('WARREN')]\n",
    "solana_beach_warren_vote_total = solana_beach_warren_votes.votes.sum()\n",
    "\n",
    "solana_beach_klobuchar_votes = solana_beach_dem_votes[solana_beach_dem_votes.candidate_name.str.contains('KLOBUCHAR')]\n",
    "solana_beach_klobuchar_vote_total = solana_beach_klobuchar_votes.votes.sum()\n",
    "\n",
    "solana_beach_bloomberg_votes = solana_beach_dem_votes[solana_beach_dem_votes.candidate_name.str.contains('BLOOMBERG')]\n",
    "solana_beach_bloomberg_vote_total = solana_beach_bloomberg_votes.votes.sum()\n",
    "\n",
    "solana_beach_steyer_votes = solana_beach_dem_votes[solana_beach_dem_votes.candidate_name.str.contains('STEYER')]\n",
    "solana_beach_steyer_vote_total = solana_beach_steyer_votes.votes.sum()\n",
    "\n",
    "solana_beach_gabbard_votes = solana_beach_dem_votes[solana_beach_dem_votes.candidate_name.str.contains('GABBARD')]\n",
    "solana_beach_gabbard_vote_total = solana_beach_gabbard_votes.votes.sum()\n",
    "\n",
    "solana_beach_williamson_votes = solana_beach_dem_votes[solana_beach_dem_votes.candidate_name.str.contains('WILLIAMSON')]\n",
    "solana_beach_williamson_vote_total = solana_beach_williamson_votes.votes.sum()\n",
    "\n",
    "solana_beach_yang_votes = solana_beach_dem_votes[solana_beach_dem_votes.candidate_name.str.contains('YANG')]\n",
    "solana_beach_yang_vote_total = solana_beach_yang_votes.votes.sum()\n",
    "\n",
    "solana_beach_gabbard_votes = solana_beach_dem_votes[solana_beach_dem_votes.candidate_name.str.contains('GABBARD')]\n",
    "solana_beach_gabbard_vote_total = solana_beach_gabbard_votes.votes.sum()"
   ]
  },
  {
   "cell_type": "code",
   "execution_count": 71,
   "metadata": {},
   "outputs": [],
   "source": [
    "del_mar = all_precincts[all_precincts.precinct.str.contains('DEL MAR')]"
   ]
  },
  {
   "cell_type": "code",
   "execution_count": 72,
   "metadata": {},
   "outputs": [],
   "source": [
    "del_mar_dem_votes = del_mar[del_mar.contest_name.str.contains('DEMOCRATIC')].sort_values('votes', ascending=False)"
   ]
  },
  {
   "cell_type": "code",
   "execution_count": 92,
   "metadata": {},
   "outputs": [],
   "source": [
    "del_mar_dem_votes = del_mar_dem_votes[~del_mar_dem_votes.precinct.str.contains('DEL MAR HEIGHTS')]"
   ]
  },
  {
   "cell_type": "code",
   "execution_count": 95,
   "metadata": {},
   "outputs": [],
   "source": [
    "del_mar_sanders_votes = del_mar_dem_votes[del_mar_dem_votes.candidate_name.str.contains('SANDERS')]\n",
    "del_mar_sanders_vote_total = del_mar_sanders_votes.votes.sum()\n",
    "\n",
    "del_mar_buttigieg_votes = del_mar_dem_votes[del_mar_dem_votes.candidate_name.str.contains('BUTTIGIEG')]\n",
    "del_mar_buttigieg_vote_total = del_mar_buttigieg_votes.votes.sum()\n",
    "\n",
    "del_mar_biden_votes = del_mar_dem_votes[del_mar_dem_votes.candidate_name.str.contains('BIDEN')]\n",
    "del_mar_biden_vote_total = del_mar_biden_votes.votes.sum()\n",
    "\n",
    "del_mar_warren_votes = del_mar_dem_votes[del_mar_dem_votes.candidate_name.str.contains('WARREN')]\n",
    "del_mar_warren_vote_total = del_mar_warren_votes.votes.sum()\n",
    "\n",
    "del_mar_klobuchar_votes = del_mar_dem_votes[del_mar_dem_votes.candidate_name.str.contains('KLOBUCHAR')]\n",
    "del_mar_klobuchar_vote_total = del_mar_klobuchar_votes.votes.sum()\n",
    "\n",
    "del_mar_bloomberg_votes = del_mar_dem_votes[del_mar_dem_votes.candidate_name.str.contains('BLOOMBERG')]\n",
    "del_mar_bloomberg_vote_total = del_mar_bloomberg_votes.votes.sum()\n",
    "\n",
    "del_mar_steyer_votes = del_mar_dem_votes[del_mar_dem_votes.candidate_name.str.contains('STEYER')]\n",
    "del_mar_steyer_vote_total = del_mar_steyer_votes.votes.sum()\n",
    "\n",
    "del_mar_gabbard_votes = del_mar_dem_votes[del_mar_dem_votes.candidate_name.str.contains('GABBARD')]\n",
    "del_mar_gabbard_vote_total = del_mar_gabbard_votes.votes.sum()\n",
    "\n",
    "del_mar_williamson_votes = del_mar_dem_votes[del_mar_dem_votes.candidate_name.str.contains('WILLIAMSON')]\n",
    "del_mar_williamson_vote_total = del_mar_williamson_votes.votes.sum()\n",
    "\n",
    "del_mar_yang_votes = del_mar_dem_votes[del_mar_dem_votes.candidate_name.str.contains('YANG')]\n",
    "del_mar_yang_vote_total = del_mar_yang_votes.votes.sum()\n",
    "\n",
    "del_mar_gabbard_votes = del_mar_dem_votes[del_mar_dem_votes.candidate_name.str.contains('GABBARD')]\n",
    "del_mar_gabbard_vote_total = del_mar_gabbard_votes.votes.sum()"
   ]
  },
  {
   "cell_type": "code",
   "execution_count": 99,
   "metadata": {},
   "outputs": [
    {
     "data": {
      "text/plain": [
       "60"
      ]
     },
     "execution_count": 99,
     "metadata": {},
     "output_type": "execute_result"
    }
   ],
   "source": [
    "del_mar_buttigieg_vote_total"
   ]
  },
  {
   "cell_type": "code",
   "execution_count": null,
   "metadata": {},
   "outputs": [],
   "source": []
  }
 ],
 "metadata": {
  "kernelspec": {
   "display_name": "Python 3",
   "language": "python",
   "name": "python3"
  },
  "language_info": {
   "codemirror_mode": {
    "name": "ipython",
    "version": 3
   },
   "file_extension": ".py",
   "mimetype": "text/x-python",
   "name": "python",
   "nbconvert_exporter": "python",
   "pygments_lexer": "ipython3",
   "version": "3.7.2"
  }
 },
 "nbformat": 4,
 "nbformat_minor": 4
}
